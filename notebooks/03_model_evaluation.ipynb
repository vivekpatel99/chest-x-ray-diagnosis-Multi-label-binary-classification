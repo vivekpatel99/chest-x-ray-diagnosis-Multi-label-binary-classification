{
 "cells": [
  {
   "cell_type": "markdown",
   "metadata": {},
   "source": [
    "# Trined Model Evalution"
   ]
  },
  {
   "cell_type": "code",
   "execution_count": null,
   "metadata": {},
   "outputs": [],
   "source": [
    "# Go to project root folder\n",
    "import os\n",
    "os.chdir(\"../\")\n",
    "%pwd"
   ]
  },
  {
   "cell_type": "code",
   "execution_count": null,
   "metadata": {},
   "outputs": [],
   "source": [
    "# Set environment variables\n",
    "os.environ['TF_FORCE_GPU_ALLOW_GROWTH'] = 'true'\n",
    "os.environ['CUDA_VISIBLE_DEVICES'] = '0'\n",
    "os.environ['TF_CPP_MIN_LOG_LEVEL'] = '2' \n",
    "\n",
    "import tensorflow as tf\n",
    "\n",
    "tf.get_logger().setLevel('ERROR')\n",
    "tf.random.set_seed(42)\n",
    "\n",
    "from pathlib import Path\n",
    "\n",
    "import matplotlib.pyplot as plt\n",
    "import mlflow\n",
    "import pandas as pd\n",
    "import seaborn as sns\n",
    "from hydra import compose, initialize\n",
    "\n",
    "from src.utils.utils import plot_auc_curve\n",
    "from src.data_loader.chest_x_ray_preprocessor import ChestXRayPreprocessor\n",
    "from src.weighted_loss.weighted_loss import get_weighted_loss"
   ]
  },
  {
   "cell_type": "code",
   "execution_count": null,
   "metadata": {},
   "outputs": [],
   "source": [
    "# https://gist.github.com/bdsaglam/586704a98336a0cf0a65a6e7c247d248\n",
    "\n",
    "with initialize(version_base=None, config_path=\"../conf\"):\n",
    "    cfg = compose(config_name=\"config\")\n",
    "    print(cfg.DATASET_DIRS.TRAIN_IMAGES_DIR)"
   ]
  },
  {
   "cell_type": "code",
   "execution_count": null,
   "metadata": {},
   "outputs": [],
   "source": [
    "%matplotlib inline\n",
    "\n",
    "# auto reload libs\n",
    "%load_ext autoreload\n",
    "%autoreload 2"
   ]
  },
  {
   "cell_type": "code",
   "execution_count": null,
   "metadata": {},
   "outputs": [],
   "source": [
    "found_gpu = tf.config.list_physical_devices('GPU')\n",
    "if not found_gpu:\n",
    "    raise Exception(\"No GPU found\")\n",
    "found_gpu, tf.__version__"
   ]
  },
  {
   "cell_type": "code",
   "execution_count": null,
   "metadata": {},
   "outputs": [],
   "source": [
    "CLASSES_NAME = ['Atelectasis','Effusion','Infiltration', 'Mass']#,'Nodule']"
   ]
  },
  {
   "cell_type": "markdown",
   "metadata": {},
   "source": [
    "## Loading Data"
   ]
  },
  {
   "cell_type": "code",
   "execution_count": null,
   "metadata": {},
   "outputs": [],
   "source": [
    "from src.data_loader.chest_x_ray_preprocessor import ChestXRayPreprocessor\n",
    "\n",
    "test_prorcessor  = ChestXRayPreprocessor(cfg, labels=CLASSES_NAME)\n",
    "_, test_ds, _, _, _= test_prorcessor.get_training_and_validation_datasets()\n"
   ]
  },
  {
   "cell_type": "code",
   "execution_count": null,
   "metadata": {},
   "outputs": [],
   "source": [
    "for batch in test_ds.take(1):\n",
    "    images, labels = batch\n",
    "    print(images.shape, labels.shape)\n",
    "    print(images[0].shape, images[0].numpy().min(), images[0].numpy().max(), labels[0])"
   ]
  },
  {
   "cell_type": "markdown",
   "metadata": {},
   "source": [
    "## Load the Trained model "
   ]
  },
  {
   "cell_type": "code",
   "execution_count": null,
   "metadata": {},
   "outputs": [],
   "source": [
    "# tf_model = tf.keras.saving.load_model('exported_models/my_densenet/checkpoints/ckpt_32.keras')\n",
    "# # tf_model.summary()\n",
    "# y_pred = tf_model.predict(test_ds)\n",
    "# y_pred = (y_pred > 0.5).astype(int)\n",
    "# y_pred"
   ]
  },
  {
   "cell_type": "code",
   "execution_count": null,
   "metadata": {},
   "outputs": [],
   "source": [
    "import numpy as np\n",
    "\n",
    "\n",
    "# test_dataset_np = np.array([np.array([x.astype(np.uint8), y.astype(int)]) for x, y in ])\n",
    "# test_dataset_np\n",
    "\n",
    "  # Ensure the dataset is shuffled (if it's not already)\n",
    "test_ds = test_ds.shuffle(buffer_size=test_ds.cardinality())\n",
    "\n",
    "  # Take a batch of images and labels\n",
    "test_images = []\n",
    "y_true = []\n",
    "for image, label in test_ds.unbatch().as_numpy_iterator():\n",
    "    # for image, label in zip(images, labels):\n",
    "    test_images.append(image.astype(np.uint8))\n",
    "    y_true.append(label.astype(int))\n",
    "\n",
    "y_true = np.array(y_true)\n",
    "y_true[:5]"
   ]
  },
  {
   "cell_type": "code",
   "execution_count": null,
   "metadata": {},
   "outputs": [],
   "source": [
    "model_uri = 'runs:/6721b88e2d02492fbcb95d4bb58e8b11/model'\n",
    "# The model is logged with an input example\n",
    "mlflow_model =mlflow.tensorflow.load_model(model_uri)"
   ]
  },
  {
   "cell_type": "code",
   "execution_count": null,
   "metadata": {},
   "outputs": [],
   "source": [
    "y_pred_pyfunc = mlflow_model.predict(test_ds)\n",
    "y_pred_pyfunc = (y_pred_pyfunc > 0.5).astype(int)\n",
    "y_pred_pyfunc"
   ]
  },
  {
   "cell_type": "code",
   "execution_count": null,
   "metadata": {},
   "outputs": [],
   "source": [
    "plot_auc_curve(output_dir='resources', \n",
    "               class_name_list=CLASSES_NAME, \n",
    "               y_true=y_true, \n",
    "               y_prob_pred=y_pred_pyfunc)"
   ]
  },
  {
   "cell_type": "code",
   "execution_count": null,
   "metadata": {},
   "outputs": [],
   "source": [
    "# Multi-label Confusion Matrix\n",
    "from sklearn.metrics import confusion_matrix\n",
    "\n",
    "num_classes = len(CLASSES_NAME)\n",
    "fig, axes = plt.subplots(1, num_classes, figsize=(num_classes * 6, 5))\n",
    "for i, class_label in enumerate(CLASSES_NAME):\n",
    "    cm = confusion_matrix(y_true[:, i], y_pred_pyfunc[:, i])\n",
    "    sns.heatmap(cm, annot=True, fmt='d', cmap='Blues', ax=axes[i])\n",
    "    axes[i].set_xlabel('Predicted')\n",
    "    axes[i].set_ylabel('True')\n",
    "    axes[i].set_title(f'Confusion Matrix - {class_label}')\n",
    "\n",
    "plt.tight_layout()\n",
    "plt.show()\n",
    "# mlflow.log_figure(fig, 'confusion_matrices.png')\n",
    "plt.close(fig)"
   ]
  },
  {
   "cell_type": "code",
   "execution_count": null,
   "metadata": {},
   "outputs": [],
   "source": [
    "def plot_random_images(test_images, test_labels, num_images=9):\n",
    "  \"\"\"\n",
    "  Plots a random sample of images and their corresponding labels from a TensorFlow dataset.\n",
    "\n",
    "  Args:\n",
    "    train_ds: A TensorFlow dataset object containing image-label pairs.\n",
    "    num_images: The number of images to plot (default: 9).\n",
    "  \"\"\"\n",
    "\n",
    "  # Create a figure and axes for the plot\n",
    "  plt.figure(figsize=(10, 10))\n",
    "\n",
    "  # Iterate through the images and plot them\n",
    "  for i in range(num_images):\n",
    "    ax = plt.subplot(3, 3, i + 1) # Create a grid of subplots\n",
    "    plt.imshow(test_images[i], cmap='gray') # Convert to numpy and uint8 for display\n",
    "    lab_np = test_labels[i]\n",
    "    pred_indices = np.where(lab_np==1)[0]\n",
    "    if len(pred_indices) == 0:\n",
    "       class_names='None'\n",
    "    else:\n",
    "      class_names = '-'.join([CLASSES_NAME[i] for i in pred_indices])\n",
    "    plt.title(f\"{class_names}\") # Display the label\n",
    "    plt.axis(\"off\") # Hide the axes\n",
    "\n",
    "  plt.tight_layout()\n",
    "  plt.show()"
   ]
  },
  {
   "cell_type": "code",
   "execution_count": null,
   "metadata": {},
   "outputs": [],
   "source": [
    "plot_random_images(test_images, y_true, num_images=9)"
   ]
  },
  {
   "cell_type": "code",
   "execution_count": null,
   "metadata": {},
   "outputs": [],
   "source": [
    "y_pred_pyfunc[0]"
   ]
  },
  {
   "cell_type": "code",
   "execution_count": null,
   "metadata": {},
   "outputs": [],
   "source": [
    "fig, ax = plt.subplots(figsize=(8,12), ncols=2, nrows=8)\n",
    "\n",
    "for idx in range(8):\n",
    "    test_image = test_images[idx]\n",
    "    _y_true = y_true[idx]\n",
    "    print(_y_true)\n",
    "    y_pred = y_pred_pyfunc[idx]\n",
    "    y_true_labels = np.where(_y_true==1)[0]\n",
    "    y_true_class_name = [CLASSES_NAME[i] for i in y_true_labels]\n",
    "    if len(y_true_labels) == 0:\n",
    "        title = 'No Findings'\n",
    "    else : \n",
    "        title = '-'.join(y_true_class_name)\n",
    "    #idx = idx//2\n",
    "    ax[idx,0].imshow(test_image)\n",
    "    ax[idx,0].set_title('Ground Truth : {}'.format(title))\n",
    "    ax[idx,0].axis('off')\n",
    "    ax[idx,1].barh(CLASSES_NAME, y_pred)\n",
    "    ax[idx,1].set_yticks(CLASSES_NAME)\n",
    "    ax[idx,1].set_yticklabels(CLASSES_NAME)\n",
    "    ax[idx,1].set_title('Predicted Class')\n",
    "    ax[idx,1].set_xlim(0, 1.1)\n",
    "\n",
    "plt.tight_layout()\n",
    "plt.show()"
   ]
  },
  {
   "cell_type": "code",
   "execution_count": null,
   "metadata": {},
   "outputs": [],
   "source": []
  }
 ],
 "metadata": {
  "kernelspec": {
   "display_name": "Python 3",
   "language": "python",
   "name": "python3"
  },
  "language_info": {
   "codemirror_mode": {
    "name": "ipython",
    "version": 3
   },
   "file_extension": ".py",
   "mimetype": "text/x-python",
   "name": "python",
   "nbconvert_exporter": "python",
   "pygments_lexer": "ipython3",
   "version": "3.12.3"
  }
 },
 "nbformat": 4,
 "nbformat_minor": 2
}
